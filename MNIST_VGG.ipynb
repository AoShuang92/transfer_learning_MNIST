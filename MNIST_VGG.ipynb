{
  "nbformat": 4,
  "nbformat_minor": 0,
  "metadata": {
    "colab": {
      "name": "MNIST_VGG.ipynb",
      "provenance": []
    },
    "kernelspec": {
      "name": "python3",
      "display_name": "Python 3"
    },
    "accelerator": "GPU"
  },
  "cells": [
    {
      "cell_type": "code",
      "metadata": {
        "id": "kK88fmGQZnPI",
        "colab_type": "code",
        "colab": {}
      },
      "source": [
        "import numpy as np\n",
        "import sklearn.metrics\n",
        "import torchvision\n",
        "from torchvision import models, datasets, transforms\n",
        "import matplotlib.pyplot as plt\n",
        "from tqdm import tqdm\n",
        "import os \n",
        "import torch "
      ],
      "execution_count": 0,
      "outputs": []
    },
    {
      "cell_type": "code",
      "metadata": {
        "id": "cljbcRs-bGSR",
        "colab_type": "code",
        "colab": {}
      },
      "source": [
        "vgg = models.vgg11_bn(pretrained = True)\n",
        "vgg.classifier[-1] = torch.nn.Linear(4096,10)"
      ],
      "execution_count": 0,
      "outputs": []
    },
    {
      "cell_type": "code",
      "metadata": {
        "id": "uzd574mxbTKM",
        "colab_type": "code",
        "colab": {}
      },
      "source": [
        "transform = transforms.Compose([\n",
        "    transforms.Grayscale(3), \n",
        "    transforms.CenterCrop(224), \n",
        "    transforms.ToTensor()\n",
        "    ])\n",
        "mnist = torchvision.datasets.MNIST('./var',download = True)\n",
        "workers = int(os.cpu_count()/2)\n",
        "\n",
        "train = torchvision.datasets.MNIST('./var',train =True, transform = transform)\n",
        "trainloader = torch.utils.data.DataLoader(train,batch_size =32,shuffle=True,num_workers = workers)\n",
        "test = torchvision.datasets.MNIST('./var',train =False, transform = transform)\n",
        "testloader = torch.utils.data.DataLoader(test,batch_size =32,shuffle=True,num_workers = workers)"
      ],
      "execution_count": 0,
      "outputs": []
    },
    {
      "cell_type": "code",
      "metadata": {
        "id": "Q7i1GLEVby8E",
        "colab_type": "code",
        "colab": {}
      },
      "source": [
        "if torch.cuda.is_available():\n",
        "    device = torch.device('cuda')\n",
        "else:\n",
        "    device = torch.device('cpu')\n",
        "loss_function = torch.nn.CrossEntropyLoss()\n",
        "optimizer = torch.optim.Adam(vgg.parameters())\n",
        "\n",
        "vgg.to(device)\n",
        "vgg.train()\n",
        "for epoch in range(20):\n",
        "    for inputs,outputs in tqdm(trainloader):\n",
        "        inputs = inputs.to(device, non_blocking = True)\n",
        "        outputs = outputs.to(device, non_blocking = True)\n",
        "        optimizer.zero_grad()\n",
        "        results = vgg(inputs)\n",
        "        loss = loss_function(results,outputs)\n",
        "        loss.backward()\n",
        "        optimizer.step()\n",
        "    print ('Loss:{0}'.format(loss))"
      ],
      "execution_count": 0,
      "outputs": []
    },
    {
      "cell_type": "code",
      "metadata": {
        "id": "6UUOjw8ycNeY",
        "colab_type": "code",
        "outputId": "e1466ae8-6b90-4a08-c57c-1a2a288b4a90",
        "colab": {
          "base_uri": "https://localhost:8080/",
          "height": 312
        }
      },
      "source": [
        "results_buffer = []\n",
        "actual_buffer = []\n",
        "with torch.no_grad():\n",
        "    vgg.eval()\n",
        "    for inputs, actual in testloader:\n",
        "        inputs = inputs.to(device, non_blocking = True)\n",
        "        results = vgg(inputs).argmax(dim=1).to('cpu').numpy()\n",
        "        results_buffer.append(results)\n",
        "        actual_buffer.append(actual)\n",
        "print (sklearn.metrics.classification_report(\n",
        "    np.concatenate(actual_buffer),\n",
        "    np.concatenate(results_buffer)\n",
        "    )\n",
        "      )"
      ],
      "execution_count": 0,
      "outputs": [
        {
          "output_type": "stream",
          "text": [
            "              precision    recall  f1-score   support\n",
            "\n",
            "           0       0.68      0.96      0.80       980\n",
            "           1       0.96      0.96      0.96      1135\n",
            "           2       0.88      0.78      0.83      1032\n",
            "           3       0.48      0.99      0.65      1010\n",
            "           4       1.00      0.07      0.14       982\n",
            "           5       0.18      0.12      0.14       892\n",
            "           6       1.00      0.30      0.46       958\n",
            "           7       0.46      0.99      0.63      1028\n",
            "           8       0.97      0.43      0.60       974\n",
            "           9       0.93      0.82      0.87      1009\n",
            "\n",
            "    accuracy                           0.66     10000\n",
            "   macro avg       0.75      0.64      0.61     10000\n",
            "weighted avg       0.76      0.66      0.62     10000\n",
            "\n"
          ],
          "name": "stdout"
        }
      ]
    },
    {
      "cell_type": "code",
      "metadata": {
        "id": "n6AJLuzXccrD",
        "colab_type": "code",
        "colab": {}
      },
      "source": [
        ""
      ],
      "execution_count": 0,
      "outputs": []
    }
  ]
}